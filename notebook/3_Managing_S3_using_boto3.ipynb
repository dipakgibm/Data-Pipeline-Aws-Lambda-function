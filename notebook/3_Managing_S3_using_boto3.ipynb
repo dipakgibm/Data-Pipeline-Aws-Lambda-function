{
 "cells": [
  {
   "cell_type": "code",
   "execution_count": 1,
   "metadata": {},
   "outputs": [],
   "source": [
    "import boto3\n",
    "import os\n"
   ]
  },
  {
   "cell_type": "code",
   "execution_count": 2,
   "metadata": {},
   "outputs": [],
   "source": [
    "s3_client = boto3.client('s3')"
   ]
  },
  {
   "cell_type": "code",
   "execution_count": 3,
   "metadata": {},
   "outputs": [
    {
     "data": {
      "text/plain": [
       "{'ResponseMetadata': {'RequestId': 'AEP19QV2AGZASMBR',\n",
       "  'HostId': 'EvKPgwVqjGM5LQJ28vl/BNaofJAM4avdgDkI5e6NFkS0ZZPhSBxYemAp4EIGnLgGuNApfSs/DmU=',\n",
       "  'HTTPStatusCode': 200,\n",
       "  'HTTPHeaders': {'x-amz-id-2': 'EvKPgwVqjGM5LQJ28vl/BNaofJAM4avdgDkI5e6NFkS0ZZPhSBxYemAp4EIGnLgGuNApfSs/DmU=',\n",
       "   'x-amz-request-id': 'AEP19QV2AGZASMBR',\n",
       "   'date': 'Wed, 09 Aug 2023 09:47:41 GMT',\n",
       "   'content-type': 'application/xml',\n",
       "   'transfer-encoding': 'chunked',\n",
       "   'server': 'AmazonS3'},\n",
       "  'RetryAttempts': 0},\n",
       " 'Buckets': [{'Name': 'dttghaactivity',\n",
       "   'CreationDate': datetime.datetime(2023, 8, 8, 15, 16, 37, tzinfo=tzutc())},\n",
       "  {'Name': 'elasticbeanstalk-us-east-1-130663382464',\n",
       "   'CreationDate': datetime.datetime(2022, 11, 23, 12, 8, 26, tzinfo=tzutc())},\n",
       "  {'Name': 'sadfdsfasdfasdfasfdsafsd',\n",
       "   'CreationDate': datetime.datetime(2022, 11, 23, 16, 30, 9, tzinfo=tzutc())}],\n",
       " 'Owner': {'DisplayName': 'deepakdthat',\n",
       "  'ID': 'fa41a1137dae6a29803ec7b2646406df53a03419a90946babd63195470fb718a'}}"
      ]
     },
     "execution_count": 3,
     "metadata": {},
     "output_type": "execute_result"
    }
   ],
   "source": [
    "s3_client.list_buckets()"
   ]
  },
  {
   "cell_type": "code",
   "execution_count": 4,
   "metadata": {},
   "outputs": [
    {
     "name": "stdout",
     "output_type": "stream",
     "text": [
      "Bucket name:  dttghaactivity\n",
      "Bucket name:  elasticbeanstalk-us-east-1-130663382464\n",
      "Bucket name:  sadfdsfasdfasdfasfdsafsd\n"
     ]
    }
   ],
   "source": [
    "for bucket in s3_client.list_buckets()['Buckets']:\n",
    "    print(\"Bucket name: \",bucket['Name'])\n",
    "    "
   ]
  },
  {
   "cell_type": "code",
   "execution_count": 13,
   "metadata": {},
   "outputs": [
    {
     "data": {
      "text/plain": [
       "2"
      ]
     },
     "execution_count": 13,
     "metadata": {},
     "output_type": "execute_result"
    }
   ],
   "source": [
    "bucket = s3_client.list_buckets()['Buckets']\n",
    "len(bucket)"
   ]
  },
  {
   "cell_type": "code",
   "execution_count": 16,
   "metadata": {},
   "outputs": [
    {
     "data": {
      "text/plain": [
       "'dtt'"
      ]
     },
     "execution_count": 16,
     "metadata": {},
     "output_type": "execute_result"
    }
   ],
   "source": [
    "buckets_prefix= input(\"Enter 2 character unique prefix for your buckets:\")\n",
    "buckets_prefix\n"
   ]
  },
  {
   "cell_type": "code",
   "execution_count": 24,
   "metadata": {},
   "outputs": [
    {
     "data": {
      "text/plain": [
       "{'ResponseMetadata': {'RequestId': 'PF0SAVZCE3V2JCAF',\n",
       "  'HostId': 'O/ufMiWRp9xLV2QlYMVhqSEqBOJtsN8qzBm6GKFn59XmsgeekMZba3YzG044DdfMPyGXkO8ha8w=',\n",
       "  'HTTPStatusCode': 200,\n",
       "  'HTTPHeaders': {'x-amz-id-2': 'O/ufMiWRp9xLV2QlYMVhqSEqBOJtsN8qzBm6GKFn59XmsgeekMZba3YzG044DdfMPyGXkO8ha8w=',\n",
       "   'x-amz-request-id': 'PF0SAVZCE3V2JCAF',\n",
       "   'date': 'Tue, 08 Aug 2023 15:16:37 GMT',\n",
       "   'location': '/dttghaactivity',\n",
       "   'server': 'AmazonS3',\n",
       "   'content-length': '0'},\n",
       "  'RetryAttempts': 0},\n",
       " 'Location': '/dttghaactivity'}"
      ]
     },
     "execution_count": 24,
     "metadata": {},
     "output_type": "execute_result"
    }
   ],
   "source": [
    "s3_client.create_bucket(Bucket=f'{buckets_prefix}ghaactivity')\n",
    "#s3_client.create_bucket?"
   ]
  },
  {
   "cell_type": "code",
   "execution_count": 26,
   "metadata": {},
   "outputs": [
    {
     "name": "stdout",
     "output_type": "stream",
     "text": [
      "Bucket name:  dttghaactivity\n",
      "Bucket name:  elasticbeanstalk-us-east-1-130663382464\n",
      "Bucket name:  sadfdsfasdfasdfasfdsafsd\n"
     ]
    }
   ],
   "source": [
    "for bucket in s3_client.list_buckets()['Buckets']:\n",
    "    print(\"Bucket name: \",bucket['Name'])\n",
    "    "
   ]
  }
 ],
 "metadata": {
  "kernelspec": {
   "display_name": "ga-venv",
   "language": "python",
   "name": "python3"
  },
  "language_info": {
   "codemirror_mode": {
    "name": "ipython",
    "version": 3
   },
   "file_extension": ".py",
   "mimetype": "text/x-python",
   "name": "python",
   "nbconvert_exporter": "python",
   "pygments_lexer": "ipython3",
   "version": "3.9.17"
  },
  "orig_nbformat": 4
 },
 "nbformat": 4,
 "nbformat_minor": 2
}
