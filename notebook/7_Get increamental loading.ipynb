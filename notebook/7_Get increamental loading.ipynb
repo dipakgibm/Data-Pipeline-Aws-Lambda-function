{
 "cells": [
  {
   "cell_type": "code",
   "execution_count": 8,
   "metadata": {},
   "outputs": [],
   "source": [
    "import requests\n",
    "import pandas as pd\n",
    "import boto3\n",
    "from datetime import datetime as dt\n",
    "from datetime import timedelta as td\n",
    "\n"
   ]
  },
  {
   "cell_type": "code",
   "execution_count": 9,
   "metadata": {},
   "outputs": [],
   "source": [
    "def get_job_details(job_name):\n",
    "    dynamodb = boto3.resource('dynamodb')\n",
    "    table= dynamodb.Table('jobs')\n",
    "    job_details= table.get_item(Key={'job_id':job_name})['Item']\n",
    "    return job_details\n",
    "      "
   ]
  },
  {
   "cell_type": "code",
   "execution_count": 10,
   "metadata": {},
   "outputs": [
    {
     "data": {
      "text/plain": [
       "{'job_description': 'Ingest ghactivity data to s3',\n",
       " 'is_active': 'Y',\n",
       " 'job_id': 'ghactivity_ingest',\n",
       " 'baseline_days': Decimal('3'),\n",
       " 'job_run_bookmark_details': {'last_run_file_name': '2023-08-10-0.json.gz'}}"
      ]
     },
     "execution_count": 10,
     "metadata": {},
     "output_type": "execute_result"
    }
   ],
   "source": [
    "job_details = get_job_details('ghactivity_ingest')\n",
    "job_details"
   ]
  },
  {
   "cell_type": "code",
   "execution_count": 11,
   "metadata": {},
   "outputs": [
    {
     "data": {
      "text/plain": [
       "Decimal('3')"
      ]
     },
     "execution_count": 11,
     "metadata": {},
     "output_type": "execute_result"
    }
   ],
   "source": [
    "baseline_days = job_details['baseline_days']\n",
    "baseline_days"
   ]
  },
  {
   "cell_type": "code",
   "execution_count": 12,
   "metadata": {},
   "outputs": [
    {
     "data": {
      "text/plain": [
       "'2023-08-13-0.json.gz'"
      ]
     },
     "execution_count": 12,
     "metadata": {},
     "output_type": "execute_result"
    }
   ],
   "source": [
    "start_file = f'{dt.strftime(dt.now().date()-td(days=3),\"%Y-%m-%d\")}-0.json.gz'\n",
    "start_file"
   ]
  },
  {
   "cell_type": "code",
   "execution_count": 13,
   "metadata": {},
   "outputs": [],
   "source": [
    "job_details = {'job_description': 'Ingest ghactivity data to s3',\n",
    " 'is_active': 'Y',\n",
    " 'job_id': 'ghactivity_ingest',\n",
    " 'baseline_days': 3,\n",
    " \"job_run_bookmark_details\":{\n",
    "     'last_run_file_name': start_file,\n",
    " }\n",
    "}"
   ]
  },
  {
   "cell_type": "code",
   "execution_count": 14,
   "metadata": {},
   "outputs": [],
   "source": [
    "dynamodb=boto3.resource('dynamodb')\n",
    "table = dynamodb.Table('jobs')\n"
   ]
  },
  {
   "cell_type": "code",
   "execution_count": 15,
   "metadata": {},
   "outputs": [
    {
     "data": {
      "text/plain": [
       "{'ResponseMetadata': {'RequestId': 'D2G1QB5MEB9UOVT4NPPSVR1UJJVV4KQNSO5AEMVJF66Q9ASUAAJG',\n",
       "  'HTTPStatusCode': 200,\n",
       "  'HTTPHeaders': {'server': 'Server',\n",
       "   'date': 'Wed, 16 Aug 2023 14:20:51 GMT',\n",
       "   'content-type': 'application/x-amz-json-1.0',\n",
       "   'content-length': '2',\n",
       "   'connection': 'keep-alive',\n",
       "   'x-amzn-requestid': 'D2G1QB5MEB9UOVT4NPPSVR1UJJVV4KQNSO5AEMVJF66Q9ASUAAJG',\n",
       "   'x-amz-crc32': '2745614147'},\n",
       "  'RetryAttempts': 0}}"
      ]
     },
     "execution_count": 15,
     "metadata": {},
     "output_type": "execute_result"
    }
   ],
   "source": [
    "table.put_item(Item=job_details)\n"
   ]
  },
  {
   "cell_type": "code",
   "execution_count": 16,
   "metadata": {},
   "outputs": [
    {
     "data": {
      "text/plain": [
       "{'Item': {'job_description': 'Ingest ghactivity data to s3',\n",
       "  'is_active': 'Y',\n",
       "  'job_id': 'ghactivity_ingest',\n",
       "  'baseline_days': Decimal('3'),\n",
       "  'job_run_bookmark_details': {'last_run_file_name': '2023-08-13-0.json.gz'}},\n",
       " 'ResponseMetadata': {'RequestId': '5U25FT34J0N3G3P949SRI262P7VV4KQNSO5AEMVJF66Q9ASUAAJG',\n",
       "  'HTTPStatusCode': 200,\n",
       "  'HTTPHeaders': {'server': 'Server',\n",
       "   'date': 'Wed, 16 Aug 2023 14:20:51 GMT',\n",
       "   'content-type': 'application/x-amz-json-1.0',\n",
       "   'content-length': '233',\n",
       "   'connection': 'keep-alive',\n",
       "   'x-amzn-requestid': '5U25FT34J0N3G3P949SRI262P7VV4KQNSO5AEMVJF66Q9ASUAAJG',\n",
       "   'x-amz-crc32': '1541871833'},\n",
       "  'RetryAttempts': 0}}"
      ]
     },
     "execution_count": 16,
     "metadata": {},
     "output_type": "execute_result"
    }
   ],
   "source": [
    "table.get_item(Key={'job_id':'ghactivity_ingest'})"
   ]
  },
  {
   "cell_type": "code",
   "execution_count": 17,
   "metadata": {},
   "outputs": [
    {
     "data": {
      "text/plain": [
       "{'last_run_file_name': '2023-08-13-0.json.gz'}"
      ]
     },
     "execution_count": 17,
     "metadata": {},
     "output_type": "execute_result"
    }
   ],
   "source": [
    "job_run_bookmark_details = table.\\\n",
    "    get_item(Key={'job_id':'ghactivity_ingest'})['Item']['job_run_bookmark_details']\n",
    "job_run_bookmark_details"
   ]
  },
  {
   "cell_type": "code",
   "execution_count": 18,
   "metadata": {},
   "outputs": [
    {
     "data": {
      "text/plain": [
       "'2023-08-13-0'"
      ]
     },
     "execution_count": 18,
     "metadata": {},
     "output_type": "execute_result"
    }
   ],
   "source": [
    "dt_part = job_run_bookmark_details['last_run_file_name'].split('.')[0]\n",
    "dt_part"
   ]
  },
  {
   "cell_type": "code",
   "execution_count": 19,
   "metadata": {},
   "outputs": [
    {
     "data": {
      "text/plain": [
       "'2023-08-13-1.json.gz'"
      ]
     },
     "execution_count": 19,
     "metadata": {},
     "output_type": "execute_result"
    }
   ],
   "source": [
    "next_file = f\"{dt.strftime(dt.strptime(dt_part,'%Y-%m-%d-%H') + td(hours=1),'%Y-%m-%d-%-H')}.json.gz\"\n",
    "next_file"
   ]
  },
  {
   "cell_type": "code",
   "execution_count": 20,
   "metadata": {},
   "outputs": [],
   "source": [
    "res = requests.get(f'https://data.gharchive.org/{next_file}')\n",
    "file = open(f'data/{next_file}', 'wb')\n",
    "file.write(res.content)\n",
    "file.close()"
   ]
  },
  {
   "cell_type": "code",
   "execution_count": 21,
   "metadata": {},
   "outputs": [
    {
     "name": "stdout",
     "output_type": "stream",
     "text": [
      "total 213624\n",
      "-rw-r--r-- 1 admin123 admin123 33989636 Aug  8 17:12 2022-06-05-0.json.gz\n",
      "-rw-r--r-- 1 admin123 admin123 75005991 Aug 13 17:47 2023-08-10-0.json.gz\n",
      "-rw-r--r-- 1 admin123 admin123 71020062 Aug 16 14:37 2023-08-10-1.json.gz\n",
      "-rw-r--r-- 1 admin123 admin123 38724119 Aug 16 19:51 2023-08-13-1.json.gz\n"
     ]
    }
   ],
   "source": [
    "!ls -ltr data/"
   ]
  },
  {
   "cell_type": "code",
   "execution_count": 22,
   "metadata": {},
   "outputs": [
    {
     "data": {
      "text/html": [
       "<div>\n",
       "<style scoped>\n",
       "    .dataframe tbody tr th:only-of-type {\n",
       "        vertical-align: middle;\n",
       "    }\n",
       "\n",
       "    .dataframe tbody tr th {\n",
       "        vertical-align: top;\n",
       "    }\n",
       "\n",
       "    .dataframe thead th {\n",
       "        text-align: right;\n",
       "    }\n",
       "</style>\n",
       "<table border=\"1\" class=\"dataframe\">\n",
       "  <thead>\n",
       "    <tr style=\"text-align: right;\">\n",
       "      <th></th>\n",
       "      <th>id</th>\n",
       "      <th>type</th>\n",
       "      <th>actor</th>\n",
       "      <th>repo</th>\n",
       "      <th>payload</th>\n",
       "      <th>public</th>\n",
       "      <th>created_at</th>\n",
       "      <th>org</th>\n",
       "    </tr>\n",
       "  </thead>\n",
       "  <tbody>\n",
       "    <tr>\n",
       "      <th>0</th>\n",
       "      <td>31080082626</td>\n",
       "      <td>CreateEvent</td>\n",
       "      <td>{'id': 1039839, 'login': 'santina', 'display_l...</td>\n",
       "      <td>{'id': 592891776, 'name': 'openseattle/open-se...</td>\n",
       "      <td>{'ref': 'santina/update_rebrand2', 'ref_type':...</td>\n",
       "      <td>True</td>\n",
       "      <td>2023-08-13 01:00:00+00:00</td>\n",
       "      <td>{'id': 3466034, 'login': 'openseattle', 'grava...</td>\n",
       "    </tr>\n",
       "    <tr>\n",
       "      <th>1</th>\n",
       "      <td>31080082627</td>\n",
       "      <td>CreateEvent</td>\n",
       "      <td>{'id': 51386346, 'login': 'c3-github-integrati...</td>\n",
       "      <td>{'id': 677883738, 'name': 'c3-github-integrati...</td>\n",
       "      <td>{'ref': None, 'ref_type': 'repository', 'maste...</td>\n",
       "      <td>True</td>\n",
       "      <td>2023-08-13 01:00:00+00:00</td>\n",
       "      <td>NaN</td>\n",
       "    </tr>\n",
       "    <tr>\n",
       "      <th>2</th>\n",
       "      <td>31080082628</td>\n",
       "      <td>PushEvent</td>\n",
       "      <td>{'id': 41898282, 'login': 'github-actions[bot]...</td>\n",
       "      <td>{'id': 620880430, 'name': '5Lin/ChatGPT-Next-W...</td>\n",
       "      <td>{'repository_id': 620880430, 'push_id': 146561...</td>\n",
       "      <td>True</td>\n",
       "      <td>2023-08-13 01:00:00+00:00</td>\n",
       "      <td>NaN</td>\n",
       "    </tr>\n",
       "    <tr>\n",
       "      <th>3</th>\n",
       "      <td>31080082629</td>\n",
       "      <td>WatchEvent</td>\n",
       "      <td>{'id': 94348047, 'login': 'ltt159264', 'displa...</td>\n",
       "      <td>{'id': 321316812, 'name': 'Lightning-Universe/...</td>\n",
       "      <td>{'action': 'started'}</td>\n",
       "      <td>True</td>\n",
       "      <td>2023-08-13 01:00:00+00:00</td>\n",
       "      <td>{'id': 120740856, 'login': 'Lightning-Universe...</td>\n",
       "    </tr>\n",
       "    <tr>\n",
       "      <th>4</th>\n",
       "      <td>31080082631</td>\n",
       "      <td>CreateEvent</td>\n",
       "      <td>{'id': 66220547, 'login': 'Victoria240', 'disp...</td>\n",
       "      <td>{'id': 650357160, 'name': 'Victoria240/react-t...</td>\n",
       "      <td>{'ref': 'lesson_1_7', 'ref_type': 'branch', 'm...</td>\n",
       "      <td>True</td>\n",
       "      <td>2023-08-13 01:00:00+00:00</td>\n",
       "      <td>NaN</td>\n",
       "    </tr>\n",
       "    <tr>\n",
       "      <th>...</th>\n",
       "      <td>...</td>\n",
       "      <td>...</td>\n",
       "      <td>...</td>\n",
       "      <td>...</td>\n",
       "      <td>...</td>\n",
       "      <td>...</td>\n",
       "      <td>...</td>\n",
       "      <td>...</td>\n",
       "    </tr>\n",
       "    <tr>\n",
       "      <th>122992</th>\n",
       "      <td>31080413256</td>\n",
       "      <td>PushEvent</td>\n",
       "      <td>{'id': 111329684, 'login': 'B74LABgit', 'displ...</td>\n",
       "      <td>{'id': 534383388, 'name': 'B74LABgit/CAM', 'ur...</td>\n",
       "      <td>{'repository_id': 534383388, 'push_id': 146563...</td>\n",
       "      <td>True</td>\n",
       "      <td>2023-08-13 01:59:59+00:00</td>\n",
       "      <td>NaN</td>\n",
       "    </tr>\n",
       "    <tr>\n",
       "      <th>122993</th>\n",
       "      <td>31080413253</td>\n",
       "      <td>PushEvent</td>\n",
       "      <td>{'id': 37741296, 'login': 'xinonria', 'display...</td>\n",
       "      <td>{'id': 677026427, 'name': 'xinonria/xinonria.g...</td>\n",
       "      <td>{'repository_id': 677026427, 'push_id': 146563...</td>\n",
       "      <td>True</td>\n",
       "      <td>2023-08-13 01:59:59+00:00</td>\n",
       "      <td>NaN</td>\n",
       "    </tr>\n",
       "    <tr>\n",
       "      <th>122994</th>\n",
       "      <td>31080413259</td>\n",
       "      <td>CreateEvent</td>\n",
       "      <td>{'id': 113607660, 'login': 'josh270', 'display...</td>\n",
       "      <td>{'id': 677892162, 'name': 'josh270/password-ge...</td>\n",
       "      <td>{'ref': 'main', 'ref_type': 'branch', 'master_...</td>\n",
       "      <td>True</td>\n",
       "      <td>2023-08-13 01:59:59+00:00</td>\n",
       "      <td>NaN</td>\n",
       "    </tr>\n",
       "    <tr>\n",
       "      <th>122995</th>\n",
       "      <td>31080413263</td>\n",
       "      <td>PullRequestEvent</td>\n",
       "      <td>{'id': 13025337, 'login': 'bitnami-bot', 'disp...</td>\n",
       "      <td>{'id': 476381845, 'name': 'bitnami/containers'...</td>\n",
       "      <td>{'action': 'closed', 'number': 44472, 'pull_re...</td>\n",
       "      <td>True</td>\n",
       "      <td>2023-08-13 01:59:59+00:00</td>\n",
       "      <td>{'id': 5446553, 'login': 'bitnami', 'gravatar_...</td>\n",
       "    </tr>\n",
       "    <tr>\n",
       "      <th>122996</th>\n",
       "      <td>31080413266</td>\n",
       "      <td>PushEvent</td>\n",
       "      <td>{'id': 102927083, 'login': 'akasrkn', 'display...</td>\n",
       "      <td>{'id': 677892079, 'name': 'akasrkn/srkanenes0'...</td>\n",
       "      <td>{'repository_id': 677892079, 'push_id': 146563...</td>\n",
       "      <td>True</td>\n",
       "      <td>2023-08-13 01:59:59+00:00</td>\n",
       "      <td>NaN</td>\n",
       "    </tr>\n",
       "  </tbody>\n",
       "</table>\n",
       "<p>122997 rows × 8 columns</p>\n",
       "</div>"
      ],
      "text/plain": [
       "                 id              type  \\\n",
       "0       31080082626       CreateEvent   \n",
       "1       31080082627       CreateEvent   \n",
       "2       31080082628         PushEvent   \n",
       "3       31080082629        WatchEvent   \n",
       "4       31080082631       CreateEvent   \n",
       "...             ...               ...   \n",
       "122992  31080413256         PushEvent   \n",
       "122993  31080413253         PushEvent   \n",
       "122994  31080413259       CreateEvent   \n",
       "122995  31080413263  PullRequestEvent   \n",
       "122996  31080413266         PushEvent   \n",
       "\n",
       "                                                    actor  \\\n",
       "0       {'id': 1039839, 'login': 'santina', 'display_l...   \n",
       "1       {'id': 51386346, 'login': 'c3-github-integrati...   \n",
       "2       {'id': 41898282, 'login': 'github-actions[bot]...   \n",
       "3       {'id': 94348047, 'login': 'ltt159264', 'displa...   \n",
       "4       {'id': 66220547, 'login': 'Victoria240', 'disp...   \n",
       "...                                                   ...   \n",
       "122992  {'id': 111329684, 'login': 'B74LABgit', 'displ...   \n",
       "122993  {'id': 37741296, 'login': 'xinonria', 'display...   \n",
       "122994  {'id': 113607660, 'login': 'josh270', 'display...   \n",
       "122995  {'id': 13025337, 'login': 'bitnami-bot', 'disp...   \n",
       "122996  {'id': 102927083, 'login': 'akasrkn', 'display...   \n",
       "\n",
       "                                                     repo  \\\n",
       "0       {'id': 592891776, 'name': 'openseattle/open-se...   \n",
       "1       {'id': 677883738, 'name': 'c3-github-integrati...   \n",
       "2       {'id': 620880430, 'name': '5Lin/ChatGPT-Next-W...   \n",
       "3       {'id': 321316812, 'name': 'Lightning-Universe/...   \n",
       "4       {'id': 650357160, 'name': 'Victoria240/react-t...   \n",
       "...                                                   ...   \n",
       "122992  {'id': 534383388, 'name': 'B74LABgit/CAM', 'ur...   \n",
       "122993  {'id': 677026427, 'name': 'xinonria/xinonria.g...   \n",
       "122994  {'id': 677892162, 'name': 'josh270/password-ge...   \n",
       "122995  {'id': 476381845, 'name': 'bitnami/containers'...   \n",
       "122996  {'id': 677892079, 'name': 'akasrkn/srkanenes0'...   \n",
       "\n",
       "                                                  payload  public  \\\n",
       "0       {'ref': 'santina/update_rebrand2', 'ref_type':...    True   \n",
       "1       {'ref': None, 'ref_type': 'repository', 'maste...    True   \n",
       "2       {'repository_id': 620880430, 'push_id': 146561...    True   \n",
       "3                                   {'action': 'started'}    True   \n",
       "4       {'ref': 'lesson_1_7', 'ref_type': 'branch', 'm...    True   \n",
       "...                                                   ...     ...   \n",
       "122992  {'repository_id': 534383388, 'push_id': 146563...    True   \n",
       "122993  {'repository_id': 677026427, 'push_id': 146563...    True   \n",
       "122994  {'ref': 'main', 'ref_type': 'branch', 'master_...    True   \n",
       "122995  {'action': 'closed', 'number': 44472, 'pull_re...    True   \n",
       "122996  {'repository_id': 677892079, 'push_id': 146563...    True   \n",
       "\n",
       "                      created_at  \\\n",
       "0      2023-08-13 01:00:00+00:00   \n",
       "1      2023-08-13 01:00:00+00:00   \n",
       "2      2023-08-13 01:00:00+00:00   \n",
       "3      2023-08-13 01:00:00+00:00   \n",
       "4      2023-08-13 01:00:00+00:00   \n",
       "...                          ...   \n",
       "122992 2023-08-13 01:59:59+00:00   \n",
       "122993 2023-08-13 01:59:59+00:00   \n",
       "122994 2023-08-13 01:59:59+00:00   \n",
       "122995 2023-08-13 01:59:59+00:00   \n",
       "122996 2023-08-13 01:59:59+00:00   \n",
       "\n",
       "                                                      org  \n",
       "0       {'id': 3466034, 'login': 'openseattle', 'grava...  \n",
       "1                                                     NaN  \n",
       "2                                                     NaN  \n",
       "3       {'id': 120740856, 'login': 'Lightning-Universe...  \n",
       "4                                                     NaN  \n",
       "...                                                   ...  \n",
       "122992                                                NaN  \n",
       "122993                                                NaN  \n",
       "122994                                                NaN  \n",
       "122995  {'id': 5446553, 'login': 'bitnami', 'gravatar_...  \n",
       "122996                                                NaN  \n",
       "\n",
       "[122997 rows x 8 columns]"
      ]
     },
     "execution_count": 22,
     "metadata": {},
     "output_type": "execute_result"
    }
   ],
   "source": [
    "df = pd.read_json(f'data/{next_file}',lines=True,orient='records')\n",
    "df"
   ]
  },
  {
   "cell_type": "code",
   "execution_count": 24,
   "metadata": {},
   "outputs": [
    {
     "data": {
      "text/plain": [
       "Index(['id', 'type', 'actor', 'repo', 'payload', 'public', 'created_at',\n",
       "       'org'],\n",
       "      dtype='object')"
      ]
     },
     "execution_count": 24,
     "metadata": {},
     "output_type": "execute_result"
    }
   ],
   "source": [
    "df.columns"
   ]
  },
  {
   "cell_type": "code",
   "execution_count": 28,
   "metadata": {},
   "outputs": [
    {
     "data": {
      "text/plain": [
       "id                          int64\n",
       "type                       object\n",
       "actor                      object\n",
       "repo                       object\n",
       "payload                    object\n",
       "public                       bool\n",
       "created_at    datetime64[ns, UTC]\n",
       "org                        object\n",
       "dtype: object"
      ]
     },
     "execution_count": 28,
     "metadata": {},
     "output_type": "execute_result"
    }
   ],
   "source": [
    "df.dtypes"
   ]
  },
  {
   "cell_type": "code",
   "execution_count": 30,
   "metadata": {},
   "outputs": [
    {
     "data": {
      "text/plain": [
       "(122997, 8)"
      ]
     },
     "execution_count": 30,
     "metadata": {},
     "output_type": "execute_result"
    }
   ],
   "source": [
    "df.shape"
   ]
  },
  {
   "cell_type": "code",
   "execution_count": null,
   "metadata": {},
   "outputs": [],
   "source": [
    " "
   ]
  }
 ],
 "metadata": {
  "kernelspec": {
   "display_name": "ga-venv",
   "language": "python",
   "name": "python3"
  },
  "language_info": {
   "codemirror_mode": {
    "name": "ipython",
    "version": 3
   },
   "file_extension": ".py",
   "mimetype": "text/x-python",
   "name": "python",
   "nbconvert_exporter": "python",
   "pygments_lexer": "ipython3",
   "version": "3.9.17"
  },
  "orig_nbformat": 4
 },
 "nbformat": 4,
 "nbformat_minor": 2
}
