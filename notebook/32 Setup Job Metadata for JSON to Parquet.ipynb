{
 "cells": [
  {
   "cell_type": "code",
   "execution_count": 1,
   "metadata": {},
   "outputs": [],
   "source": [
    "import os\n",
    "import boto3"
   ]
  },
  {
   "cell_type": "code",
   "execution_count": 2,
   "metadata": {},
   "outputs": [],
   "source": [
    "dynamodb = boto3.resource('dynamodb')\n",
    "table = dynamodb.Table('jobs')"
   ]
  },
  {
   "cell_type": "code",
   "execution_count": 6,
   "metadata": {},
   "outputs": [],
   "source": [
    "job_run_details = dynamodb.Table('jobs_run_details')"
   ]
  },
  {
   "cell_type": "code",
   "execution_count": 7,
   "metadata": {},
   "outputs": [
    {
     "data": {
      "text/plain": [
       "{'Items': [{'create_ts': Decimal('1694168954'),\n",
       "   'job_id': 'ghactivity_transform',\n",
       "   'job_run_bookmark_details': {'file_pattern': 's3://None/parquets/year=2023/month=09/dayofmonth=02/part-2023-09-02-0',\n",
       "    'file_name': '2023-09-02-0.json.gz'},\n",
       "   'job_run_time': Decimal('1694168952')},\n",
       "  {'create_ts': Decimal('1694168992'),\n",
       "   'job_id': 'ghactivity_transform',\n",
       "   'job_run_bookmark_details': {'file_pattern': 's3://aigithubs/parquets/year=2023/month=09/dayofmonth=02/part-2023-09-02-0',\n",
       "    'file_name': '2023-09-02-0.json.gz'},\n",
       "   'job_run_time': Decimal('1694168990')},\n",
       "  {'create_ts': Decimal('1694170184'),\n",
       "   'job_id': 'ghactivity_transform',\n",
       "   'job_run_bookmark_details': {'file_pattern': 's3://aigithubs/parquets/year=2023/month=09/dayofmonth=02/part-2023-09-02-0',\n",
       "    'file_name': '2023-09-02-0.json.gz'},\n",
       "   'job_run_time': Decimal('1694169074')},\n",
       "  {'create_ts': Decimal('1694248514'),\n",
       "   'job_id': 'ghactivity_transform',\n",
       "   'job_run_bookmark_details': {'file_pattern': 's3://aigithubs/rawssss/ghactivity/year=2023/month=09/dayofmonth=02/part-2023-09-02-0',\n",
       "    'file_name': '2023-09-02-0.json.gz',\n",
       "    'status_code': Decimal('200')},\n",
       "   'job_run_time': Decimal('1694248491')},\n",
       "  {'job_id': 'ghactivity_ingest',\n",
       "   'job_run_bookmark_details': {'processed_file_name': '2022-06-03-0.json.gz'},\n",
       "   'job_run_time': Decimal('1693144687')},\n",
       "  {'job_id': 'ghactivity_ingest',\n",
       "   'job_run_bookmark_details': {'processed_file_name': '2022-06-03-0.json.gz'},\n",
       "   'job_run_time': Decimal('1693145601')},\n",
       "  {'create_ts': Decimal('1693145761'),\n",
       "   'job_id': 'ghactivity_ingest',\n",
       "   'job_run_bookmark_details': {'last_run_file_name': 's3://aigithubs/landing/ghactivity/2023-08-24-0.json.gz',\n",
       "    'status_code': Decimal('200')},\n",
       "   'job_run_time': Decimal('1693145660')},\n",
       "  {'create_ts': Decimal('1693146074'),\n",
       "   'job_id': 'ghactivity_ingest',\n",
       "   'job_run_bookmark_details': {'last_run_file_name': 's3://aigithubs/landing/ghactivies/2023-08-24-1.json.gz',\n",
       "    'status_code': Decimal('200')},\n",
       "   'job_run_time': Decimal('1693145956')},\n",
       "  {'create_ts': Decimal('1693147429'),\n",
       "   'job_id': 'ghactivity_ingest',\n",
       "   'job_run_bookmark_details': {'last_run_file_name': 's3://aigithubs/landing/ghactivies/2023-08-24-2.json.gz',\n",
       "    'status_code': Decimal('200')},\n",
       "   'job_run_time': Decimal('1693147327')},\n",
       "  {'create_ts': Decimal('1693147850'),\n",
       "   'job_id': 'ghactivity_ingest',\n",
       "   'job_run_bookmark_details': {'last_run_file_name': 's3://aigithubs/landing/ghactivies/2023-08-24-3.json.gz',\n",
       "    'status_code': Decimal('200')},\n",
       "   'job_run_time': Decimal('1693147681')},\n",
       "  {'create_ts': Decimal('1693148180'),\n",
       "   'job_id': 'ghactivity_ingest',\n",
       "   'job_run_bookmark_details': {'last_run_file_name': 's3://aigithubs/landing/ghactivies/2023-08-24-4.json.gz',\n",
       "    'status_code': Decimal('200')},\n",
       "   'job_run_time': Decimal('1693147943')},\n",
       "  {'create_ts': Decimal('1693207468'),\n",
       "   'job_id': 'ghactivity_ingest',\n",
       "   'job_run_bookmark_details': {'last_run_file_name': 's3://aigithubs/aws_lambda/2023-08-24-5.json.gz',\n",
       "    'status_code': Decimal('200')},\n",
       "   'job_run_time': Decimal('1693207466')},\n",
       "  {'create_ts': Decimal('1693658325'),\n",
       "   'job_id': 'ghactivity_ingest',\n",
       "   'job_run_bookmark_details': {'last_run_file_name': 's3://aigithubs/None/2023-08-24-6.json.gz',\n",
       "    'status_code': Decimal('200')},\n",
       "   'job_run_time': Decimal('1693658115')},\n",
       "  {'create_ts': Decimal('1693661748'),\n",
       "   'job_id': 'ghactivity_ingest',\n",
       "   'job_run_bookmark_details': {'last_run_file_name': 's3://aigithubs/landings/2023-08-24-7.json.gz',\n",
       "    'status_code': Decimal('200')},\n",
       "   'job_run_time': Decimal('1693660629')},\n",
       "  {'create_ts': Decimal('1693745681'),\n",
       "   'job_id': 'ghactivity_ingest',\n",
       "   'job_run_bookmark_details': {'last_run_file_name': 's3://aigithubs/dockers/2023-08-24-8.json.gz',\n",
       "    'status_code': Decimal('200')},\n",
       "   'job_run_time': Decimal('1693745678')},\n",
       "  {'create_ts': Decimal('1694246572'),\n",
       "   'job_id': 'ghactivity_ingest',\n",
       "   'job_run_bookmark_details': {'last_run_file_name': 's3://aigithubs/dockers/2023-08-24-9.json.gz',\n",
       "    'status_code': Decimal('200')},\n",
       "   'job_run_time': Decimal('1694246569')}],\n",
       " 'Count': 16,\n",
       " 'ScannedCount': 16,\n",
       " 'ResponseMetadata': {'RequestId': 'TNTBI3O8URDSA2QI2P73ML794BVV4KQNSO5AEMVJF66Q9ASUAAJG',\n",
       "  'HTTPStatusCode': 200,\n",
       "  'HTTPHeaders': {'server': 'Server',\n",
       "   'date': 'Sat, 09 Sep 2023 09:03:31 GMT',\n",
       "   'content-type': 'application/x-amz-json-1.0',\n",
       "   'content-length': '3917',\n",
       "   'connection': 'keep-alive',\n",
       "   'x-amzn-requestid': 'TNTBI3O8URDSA2QI2P73ML794BVV4KQNSO5AEMVJF66Q9ASUAAJG',\n",
       "   'x-amz-crc32': '2358510504'},\n",
       "  'RetryAttempts': 0}}"
      ]
     },
     "execution_count": 7,
     "metadata": {},
     "output_type": "execute_result"
    }
   ],
   "source": [
    "job_run_details.scan()"
   ]
  },
  {
   "cell_type": "code",
   "execution_count": 3,
   "metadata": {},
   "outputs": [
    {
     "data": {
      "text/plain": [
       "{'Items': [{'job_description': 'Transform Files from JSON to Parquet',\n",
       "   'is_active': 'Y',\n",
       "   'job_id': 'ghactivity_transform',\n",
       "   'job_run_bookmark_details': {'file_pattern': 's3://aigithubs/rawssss/ghactivity/year=2023/month=09/dayofmonth=02/part-2023-09-02-0',\n",
       "    'file_name': '2023-09-02-0.json.gz',\n",
       "    'status_code': Decimal('200')}},\n",
       "  {'job_description': 'Ingest ghactivity data to s3',\n",
       "   'is_active': 'Y',\n",
       "   'job_id': 'ghactivity_ingest',\n",
       "   'baseline_days': Decimal('3'),\n",
       "   'job_run_bookmark_details': {'last_run_file_name': 's3://aigithubs/dockers/2023-08-24-9.json.gz',\n",
       "    'status_code': Decimal('200')}}],\n",
       " 'Count': 2,\n",
       " 'ScannedCount': 2,\n",
       " 'ResponseMetadata': {'RequestId': 'E107S0HTM6887RQ6GBH14J55EFVV4KQNSO5AEMVJF66Q9ASUAAJG',\n",
       "  'HTTPStatusCode': 200,\n",
       "  'HTTPHeaders': {'server': 'Server',\n",
       "   'date': 'Sat, 09 Sep 2023 09:00:47 GMT',\n",
       "   'content-type': 'application/x-amz-json-1.0',\n",
       "   'content-length': '647',\n",
       "   'connection': 'keep-alive',\n",
       "   'x-amzn-requestid': 'E107S0HTM6887RQ6GBH14J55EFVV4KQNSO5AEMVJF66Q9ASUAAJG',\n",
       "   'x-amz-crc32': '1166250065'},\n",
       "  'RetryAttempts': 0}}"
      ]
     },
     "execution_count": 3,
     "metadata": {},
     "output_type": "execute_result"
    }
   ],
   "source": [
    "table.scan()"
   ]
  },
  {
   "cell_type": "code",
   "execution_count": 4,
   "metadata": {},
   "outputs": [],
   "source": [
    "item = {\n",
    "    'job_id': 'ghactivity_transform',\n",
    "    'job_description': 'Transform Files from JSON to Parquet',\n",
    "    'is_active': 'Y'\n",
    "}\n"
   ]
  },
  {
   "cell_type": "code",
   "execution_count": 5,
   "metadata": {},
   "outputs": [
    {
     "data": {
      "text/plain": [
       "{'ResponseMetadata': {'RequestId': '1CJTMQKS5M3O6I3PTE7V4N9QUJVV4KQNSO5AEMVJF66Q9ASUAAJG',\n",
       "  'HTTPStatusCode': 200,\n",
       "  'HTTPHeaders': {'server': 'Server',\n",
       "   'date': 'Thu, 07 Sep 2023 10:16:34 GMT',\n",
       "   'content-type': 'application/x-amz-json-1.0',\n",
       "   'content-length': '2',\n",
       "   'connection': 'keep-alive',\n",
       "   'x-amzn-requestid': '1CJTMQKS5M3O6I3PTE7V4N9QUJVV4KQNSO5AEMVJF66Q9ASUAAJG',\n",
       "   'x-amz-crc32': '2745614147'},\n",
       "  'RetryAttempts': 0}}"
      ]
     },
     "execution_count": 5,
     "metadata": {},
     "output_type": "execute_result"
    }
   ],
   "source": [
    "table.put_item(Item=item)"
   ]
  },
  {
   "cell_type": "code",
   "execution_count": 6,
   "metadata": {},
   "outputs": [
    {
     "data": {
      "text/plain": [
       "{'Items': [{'job_description': 'Transform Files from JSON to Parquet',\n",
       "   'is_active': 'Y',\n",
       "   'job_id': 'ghactivity_transform'},\n",
       "  {'job_description': 'Ingest ghactivity data to s3',\n",
       "   'is_active': 'Y',\n",
       "   'job_id': 'ghactivity_ingest',\n",
       "   'baseline_days': Decimal('3'),\n",
       "   'job_run_bookmark_details': {'last_run_file_name': 's3://aigithubs/dockers/2023-08-24-8.json.gz',\n",
       "    'status_code': Decimal('200')}}],\n",
       " 'Count': 2,\n",
       " 'ScannedCount': 2,\n",
       " 'ResponseMetadata': {'RequestId': '9KSG6N855CG0CUN0ATTFN45H23VV4KQNSO5AEMVJF66Q9ASUAAJG',\n",
       "  'HTTPStatusCode': 200,\n",
       "  'HTTPHeaders': {'server': 'Server',\n",
       "   'date': 'Thu, 07 Sep 2023 10:16:44 GMT',\n",
       "   'content-type': 'application/x-amz-json-1.0',\n",
       "   'content-length': '437',\n",
       "   'connection': 'keep-alive',\n",
       "   'x-amzn-requestid': '9KSG6N855CG0CUN0ATTFN45H23VV4KQNSO5AEMVJF66Q9ASUAAJG',\n",
       "   'x-amz-crc32': '834193012'},\n",
       "  'RetryAttempts': 0}}"
      ]
     },
     "execution_count": 6,
     "metadata": {},
     "output_type": "execute_result"
    }
   ],
   "source": [
    "table.scan()"
   ]
  }
 ],
 "metadata": {
  "kernelspec": {
   "display_name": "ga-venv",
   "language": "python",
   "name": "python3"
  },
  "language_info": {
   "codemirror_mode": {
    "name": "ipython",
    "version": 3
   },
   "file_extension": ".py",
   "mimetype": "text/x-python",
   "name": "python",
   "nbconvert_exporter": "python",
   "pygments_lexer": "ipython3",
   "version": "3.9.17"
  },
  "orig_nbformat": 4
 },
 "nbformat": 4,
 "nbformat_minor": 2
}
