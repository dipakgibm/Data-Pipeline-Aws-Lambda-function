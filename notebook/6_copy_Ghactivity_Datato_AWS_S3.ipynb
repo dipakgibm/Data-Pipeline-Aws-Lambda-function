{
 "cells": [
  {
   "cell_type": "code",
   "execution_count": 4,
   "metadata": {},
   "outputs": [],
   "source": [
    "import requests\n",
    "import pandas as pd\n",
    "import boto3\n",
    "import os\n",
    "from datetime import datetime as dt\n",
    "from datetime import timedelta as td\n",
    "\n"
   ]
  },
  {
   "cell_type": "code",
   "execution_count": 5,
   "metadata": {},
   "outputs": [],
   "source": [
    "dynamodb_resource = boto3.resource('dynamodb')\n",
    "\n",
    "job_details_table = dynamodb_resource.Table('jobs')\n"
   ]
  },
  {
   "cell_type": "code",
   "execution_count": 6,
   "metadata": {},
   "outputs": [
    {
     "data": {
      "text/plain": [
       "{'ResponseMetadata': {'RequestId': '4311INKIQ0B7NIHQU0Q5D9BDQNVV4KQNSO5AEMVJF66Q9ASUAAJG',\n",
       "  'HTTPStatusCode': 200,\n",
       "  'HTTPHeaders': {'server': 'Server',\n",
       "   'date': 'Sun, 13 Aug 2023 12:17:14 GMT',\n",
       "   'content-type': 'application/x-amz-json-1.0',\n",
       "   'content-length': '2',\n",
       "   'connection': 'keep-alive',\n",
       "   'x-amzn-requestid': '4311INKIQ0B7NIHQU0Q5D9BDQNVV4KQNSO5AEMVJF66Q9ASUAAJG',\n",
       "   'x-amz-crc32': '2745614147'},\n",
       "  'RetryAttempts': 0}}"
      ]
     },
     "execution_count": 6,
     "metadata": {},
     "output_type": "execute_result"
    }
   ],
   "source": [
    "job_details_table.delete_item(Key={'job_id': 'ghactivity_ingest'})\n"
   ]
  },
  {
   "cell_type": "code",
   "execution_count": 7,
   "metadata": {},
   "outputs": [],
   "source": [
    "job_details = {\n",
    "    'job_id': 'ghactivity_ingest',\n",
    "    'job_description': 'Ingest ghactivity data to s3',\n",
    "    'is_active': 'Y',\n",
    "    'baseline_days':3\n",
    "}"
   ]
  },
  {
   "cell_type": "code",
   "execution_count": 8,
   "metadata": {},
   "outputs": [
    {
     "data": {
      "text/plain": [
       "{'ResponseMetadata': {'RequestId': '3MF1TR9O5CM2EC7PCSFSKMKL3RVV4KQNSO5AEMVJF66Q9ASUAAJG',\n",
       "  'HTTPStatusCode': 200,\n",
       "  'HTTPHeaders': {'server': 'Server',\n",
       "   'date': 'Sun, 13 Aug 2023 12:17:15 GMT',\n",
       "   'content-type': 'application/x-amz-json-1.0',\n",
       "   'content-length': '2',\n",
       "   'connection': 'keep-alive',\n",
       "   'x-amzn-requestid': '3MF1TR9O5CM2EC7PCSFSKMKL3RVV4KQNSO5AEMVJF66Q9ASUAAJG',\n",
       "   'x-amz-crc32': '2745614147'},\n",
       "  'RetryAttempts': 0}}"
      ]
     },
     "execution_count": 8,
     "metadata": {},
     "output_type": "execute_result"
    }
   ],
   "source": [
    "job_details_table.put_item(Item=job_details)"
   ]
  },
  {
   "cell_type": "code",
   "execution_count": 9,
   "metadata": {},
   "outputs": [],
   "source": [
    "def get_job_details(job_name):\n",
    "    dynamodb = boto3.resource('dynamodb')\n",
    "    table= dynamodb.Table('jobs')\n",
    "    job_details= table.get_item(Key={'job_id':job_name})['Item']\n",
    "    return job_details\n",
    "      "
   ]
  },
  {
   "cell_type": "code",
   "execution_count": 10,
   "metadata": {},
   "outputs": [
    {
     "data": {
      "text/plain": [
       "{'job_description': 'Ingest ghactivity data to s3',\n",
       " 'is_active': 'Y',\n",
       " 'job_id': 'ghactivity_ingest',\n",
       " 'baseline_days': Decimal('3')}"
      ]
     },
     "execution_count": 10,
     "metadata": {},
     "output_type": "execute_result"
    }
   ],
   "source": [
    "job_details = get_job_details('ghactivity_ingest')\n",
    "job_details"
   ]
  },
  {
   "cell_type": "code",
   "execution_count": null,
   "metadata": {},
   "outputs": [],
   "source": []
  },
  {
   "cell_type": "code",
   "execution_count": 11,
   "metadata": {},
   "outputs": [
    {
     "data": {
      "text/plain": [
       "datetime.datetime(2023, 8, 13, 17, 47, 16, 294721)"
      ]
     },
     "execution_count": 11,
     "metadata": {},
     "output_type": "execute_result"
    }
   ],
   "source": [
    "dt.now()"
   ]
  },
  {
   "cell_type": "code",
   "execution_count": 12,
   "metadata": {},
   "outputs": [
    {
     "data": {
      "text/plain": [
       "datetime.date(2023, 8, 13)"
      ]
     },
     "execution_count": 12,
     "metadata": {},
     "output_type": "execute_result"
    }
   ],
   "source": [
    "dt.now().date()"
   ]
  },
  {
   "cell_type": "code",
   "execution_count": 13,
   "metadata": {},
   "outputs": [
    {
     "data": {
      "text/plain": [
       "datetime.date(2023, 8, 10)"
      ]
     },
     "execution_count": 13,
     "metadata": {},
     "output_type": "execute_result"
    }
   ],
   "source": [
    "dt.now().date() - td(days=3)"
   ]
  },
  {
   "cell_type": "code",
   "execution_count": 14,
   "metadata": {},
   "outputs": [
    {
     "data": {
      "text/plain": [
       "'2023-08-10-0.json.gz'"
      ]
     },
     "execution_count": 14,
     "metadata": {},
     "output_type": "execute_result"
    }
   ],
   "source": [
    "next_file = f'{dt.strftime(dt.now().date()-td(days=3),\"%Y-%m-%d\")}-0.json.gz'\n",
    "next_file"
   ]
  },
  {
   "cell_type": "code",
   "execution_count": 15,
   "metadata": {},
   "outputs": [],
   "source": [
    "res = requests.get(f'https://data.gharchive.org/{next_file}')"
   ]
  },
  {
   "cell_type": "code",
   "execution_count": 16,
   "metadata": {},
   "outputs": [
    {
     "data": {
      "text/plain": [
       "75005991"
      ]
     },
     "execution_count": 16,
     "metadata": {},
     "output_type": "execute_result"
    }
   ],
   "source": [
    "file = open(f'data/{next_file}','wb')\n",
    "file.write(res.content)\n"
   ]
  },
  {
   "cell_type": "code",
   "execution_count": 17,
   "metadata": {},
   "outputs": [
    {
     "data": {
      "text/plain": [
       "<function BufferedWriter.close>"
      ]
     },
     "execution_count": 17,
     "metadata": {},
     "output_type": "execute_result"
    }
   ],
   "source": [
    "file.close"
   ]
  },
  {
   "cell_type": "code",
   "execution_count": 18,
   "metadata": {},
   "outputs": [
    {
     "name": "stdout",
     "output_type": "stream",
     "text": [
      "total 106448\n",
      "-rw-r--r-- 1 admin123 admin123 33989636 Aug  8 17:12 2022-06-05-0.json.gz\n",
      "-rw-r--r-- 1 admin123 admin123 75005991 Aug 13 17:47 2023-08-10-0.json.gz\n"
     ]
    }
   ],
   "source": [
    "!ls -ltr data/"
   ]
  },
  {
   "cell_type": "code",
   "execution_count": 19,
   "metadata": {},
   "outputs": [],
   "source": [
    "df = pd.read_json(f'data/{next_file}',\n",
    "                  lines = True,\n",
    "                  orient='records')"
   ]
  },
  {
   "cell_type": "code",
   "execution_count": 20,
   "metadata": {},
   "outputs": [
    {
     "data": {
      "text/html": [
       "<div>\n",
       "<style scoped>\n",
       "    .dataframe tbody tr th:only-of-type {\n",
       "        vertical-align: middle;\n",
       "    }\n",
       "\n",
       "    .dataframe tbody tr th {\n",
       "        vertical-align: top;\n",
       "    }\n",
       "\n",
       "    .dataframe thead th {\n",
       "        text-align: right;\n",
       "    }\n",
       "</style>\n",
       "<table border=\"1\" class=\"dataframe\">\n",
       "  <thead>\n",
       "    <tr style=\"text-align: right;\">\n",
       "      <th></th>\n",
       "      <th>id</th>\n",
       "      <th>type</th>\n",
       "      <th>actor</th>\n",
       "      <th>repo</th>\n",
       "      <th>payload</th>\n",
       "      <th>public</th>\n",
       "      <th>created_at</th>\n",
       "      <th>org</th>\n",
       "    </tr>\n",
       "  </thead>\n",
       "  <tbody>\n",
       "    <tr>\n",
       "      <th>0</th>\n",
       "      <td>31017097610</td>\n",
       "      <td>PullRequestReviewEvent</td>\n",
       "      <td>{'id': 42153618, 'login': 'beatrizmilz', 'disp...</td>\n",
       "      <td>{'id': 628083156, 'name': 'LatinR/latinrweb-v2...</td>\n",
       "      <td>{'action': 'created', 'review': {'id': 1570788...</td>\n",
       "      <td>True</td>\n",
       "      <td>2023-08-10 00:00:00+00:00</td>\n",
       "      <td>{'id': 42558048, 'login': 'LatinR', 'gravatar_...</td>\n",
       "    </tr>\n",
       "    <tr>\n",
       "      <th>1</th>\n",
       "      <td>31017097613</td>\n",
       "      <td>CreateEvent</td>\n",
       "      <td>{'id': 86026637, 'login': 'LucioMJ99', 'displa...</td>\n",
       "      <td>{'id': 676754092, 'name': 'LucioMJ99/Bomberman...</td>\n",
       "      <td>{'ref': 'main', 'ref_type': 'branch', 'master_...</td>\n",
       "      <td>True</td>\n",
       "      <td>2023-08-10 00:00:00+00:00</td>\n",
       "      <td>NaN</td>\n",
       "    </tr>\n",
       "    <tr>\n",
       "      <th>2</th>\n",
       "      <td>31017097635</td>\n",
       "      <td>PullRequestEvent</td>\n",
       "      <td>{'id': 49699333, 'login': 'dependabot[bot]', '...</td>\n",
       "      <td>{'id': 657106737, 'name': 'pratikshatiwari/esh...</td>\n",
       "      <td>{'action': 'opened', 'number': 12, 'pull_reque...</td>\n",
       "      <td>True</td>\n",
       "      <td>2023-08-10 00:00:00+00:00</td>\n",
       "      <td>NaN</td>\n",
       "    </tr>\n",
       "    <tr>\n",
       "      <th>3</th>\n",
       "      <td>31017097636</td>\n",
       "      <td>CreateEvent</td>\n",
       "      <td>{'id': 116526513, 'login': 'haidyabdulghani', ...</td>\n",
       "      <td>{'id': 676754094, 'name': 'haidyabdulghani/pro...</td>\n",
       "      <td>{'ref': None, 'ref_type': 'repository', 'maste...</td>\n",
       "      <td>True</td>\n",
       "      <td>2023-08-10 00:00:00+00:00</td>\n",
       "      <td>NaN</td>\n",
       "    </tr>\n",
       "    <tr>\n",
       "      <th>4</th>\n",
       "      <td>31017097638</td>\n",
       "      <td>PushEvent</td>\n",
       "      <td>{'id': 141023122, 'login': 'abiodun078', 'disp...</td>\n",
       "      <td>{'id': 674564789, 'name': 'abiodun078/rockyboi...</td>\n",
       "      <td>{'repository_id': 674564789, 'push_id': 146232...</td>\n",
       "      <td>True</td>\n",
       "      <td>2023-08-10 00:00:00+00:00</td>\n",
       "      <td>NaN</td>\n",
       "    </tr>\n",
       "  </tbody>\n",
       "</table>\n",
       "</div>"
      ],
      "text/plain": [
       "            id                    type  \\\n",
       "0  31017097610  PullRequestReviewEvent   \n",
       "1  31017097613             CreateEvent   \n",
       "2  31017097635        PullRequestEvent   \n",
       "3  31017097636             CreateEvent   \n",
       "4  31017097638               PushEvent   \n",
       "\n",
       "                                               actor  \\\n",
       "0  {'id': 42153618, 'login': 'beatrizmilz', 'disp...   \n",
       "1  {'id': 86026637, 'login': 'LucioMJ99', 'displa...   \n",
       "2  {'id': 49699333, 'login': 'dependabot[bot]', '...   \n",
       "3  {'id': 116526513, 'login': 'haidyabdulghani', ...   \n",
       "4  {'id': 141023122, 'login': 'abiodun078', 'disp...   \n",
       "\n",
       "                                                repo  \\\n",
       "0  {'id': 628083156, 'name': 'LatinR/latinrweb-v2...   \n",
       "1  {'id': 676754092, 'name': 'LucioMJ99/Bomberman...   \n",
       "2  {'id': 657106737, 'name': 'pratikshatiwari/esh...   \n",
       "3  {'id': 676754094, 'name': 'haidyabdulghani/pro...   \n",
       "4  {'id': 674564789, 'name': 'abiodun078/rockyboi...   \n",
       "\n",
       "                                             payload  public  \\\n",
       "0  {'action': 'created', 'review': {'id': 1570788...    True   \n",
       "1  {'ref': 'main', 'ref_type': 'branch', 'master_...    True   \n",
       "2  {'action': 'opened', 'number': 12, 'pull_reque...    True   \n",
       "3  {'ref': None, 'ref_type': 'repository', 'maste...    True   \n",
       "4  {'repository_id': 674564789, 'push_id': 146232...    True   \n",
       "\n",
       "                 created_at                                                org  \n",
       "0 2023-08-10 00:00:00+00:00  {'id': 42558048, 'login': 'LatinR', 'gravatar_...  \n",
       "1 2023-08-10 00:00:00+00:00                                                NaN  \n",
       "2 2023-08-10 00:00:00+00:00                                                NaN  \n",
       "3 2023-08-10 00:00:00+00:00                                                NaN  \n",
       "4 2023-08-10 00:00:00+00:00                                                NaN  "
      ]
     },
     "execution_count": 20,
     "metadata": {},
     "output_type": "execute_result"
    }
   ],
   "source": [
    "df.head()"
   ]
  },
  {
   "cell_type": "code",
   "execution_count": 22,
   "metadata": {},
   "outputs": [
    {
     "data": {
      "text/plain": [
       "id            153562\n",
       "type          153562\n",
       "actor         153562\n",
       "repo          153562\n",
       "payload       153562\n",
       "public        153562\n",
       "created_at    153562\n",
       "org            37128\n",
       "dtype: int64"
      ]
     },
     "execution_count": 22,
     "metadata": {},
     "output_type": "execute_result"
    }
   ],
   "source": [
    "df.count()"
   ]
  },
  {
   "cell_type": "code",
   "execution_count": 24,
   "metadata": {},
   "outputs": [
    {
     "data": {
      "text/plain": [
       "Index(['id', 'type', 'actor', 'repo', 'payload', 'public', 'created_at',\n",
       "       'org'],\n",
       "      dtype='object')"
      ]
     },
     "execution_count": 24,
     "metadata": {},
     "output_type": "execute_result"
    }
   ],
   "source": [
    "df.columns"
   ]
  },
  {
   "cell_type": "code",
   "execution_count": 28,
   "metadata": {},
   "outputs": [
    {
     "data": {
      "text/plain": [
       "id                          int64\n",
       "type                       object\n",
       "actor                      object\n",
       "repo                       object\n",
       "payload                    object\n",
       "public                       bool\n",
       "created_at    datetime64[ns, UTC]\n",
       "org                        object\n",
       "dtype: object"
      ]
     },
     "execution_count": 28,
     "metadata": {},
     "output_type": "execute_result"
    }
   ],
   "source": [
    "df.dtypes"
   ]
  },
  {
   "cell_type": "code",
   "execution_count": null,
   "metadata": {},
   "outputs": [],
   "source": []
  }
 ],
 "metadata": {
  "kernelspec": {
   "display_name": "ga-venv",
   "language": "python",
   "name": "python3"
  },
  "language_info": {
   "codemirror_mode": {
    "name": "ipython",
    "version": 3
   },
   "file_extension": ".py",
   "mimetype": "text/x-python",
   "name": "python",
   "nbconvert_exporter": "python",
   "pygments_lexer": "ipython3",
   "version": "3.9.17"
  },
  "orig_nbformat": 4
 },
 "nbformat": 4,
 "nbformat_minor": 2
}
