{
 "cells": [
  {
   "cell_type": "code",
   "execution_count": 1,
   "metadata": {},
   "outputs": [],
   "source": [
    "import pandas as pd\n"
   ]
  },
  {
   "cell_type": "code",
   "execution_count": 3,
   "metadata": {},
   "outputs": [],
   "source": [
    "df = pd.read_json('data/2022-06-05-0.json.gz',lines=True)\n"
   ]
  },
  {
   "cell_type": "code",
   "execution_count": 7,
   "metadata": {},
   "outputs": [
    {
     "data": {
      "text/plain": [
       "(89443, 8)"
      ]
     },
     "execution_count": 7,
     "metadata": {},
     "output_type": "execute_result"
    }
   ],
   "source": [
    "df.shape"
   ]
  },
  {
   "cell_type": "code",
   "execution_count": 9,
   "metadata": {},
   "outputs": [
    {
     "data": {
      "text/plain": [
       "Index(['id', 'type', 'actor', 'repo', 'payload', 'public', 'created_at',\n",
       "       'org'],\n",
       "      dtype='object')"
      ]
     },
     "execution_count": 9,
     "metadata": {},
     "output_type": "execute_result"
    }
   ],
   "source": [
    "df.columns"
   ]
  },
  {
   "cell_type": "code",
   "execution_count": 11,
   "metadata": {},
   "outputs": [
    {
     "data": {
      "text/plain": [
       "id                          int64\n",
       "type                       object\n",
       "actor                      object\n",
       "repo                       object\n",
       "payload                    object\n",
       "public                       bool\n",
       "created_at    datetime64[ns, UTC]\n",
       "org                        object\n",
       "dtype: object"
      ]
     },
     "execution_count": 11,
     "metadata": {},
     "output_type": "execute_result"
    }
   ],
   "source": [
    "df.dtypes"
   ]
  },
  {
   "cell_type": "code",
   "execution_count": 12,
   "metadata": {},
   "outputs": [
    {
     "data": {
      "text/html": [
       "<div>\n",
       "<style scoped>\n",
       "    .dataframe tbody tr th:only-of-type {\n",
       "        vertical-align: middle;\n",
       "    }\n",
       "\n",
       "    .dataframe tbody tr th {\n",
       "        vertical-align: top;\n",
       "    }\n",
       "\n",
       "    .dataframe thead th {\n",
       "        text-align: right;\n",
       "    }\n",
       "</style>\n",
       "<table border=\"1\" class=\"dataframe\">\n",
       "  <thead>\n",
       "    <tr style=\"text-align: right;\">\n",
       "      <th></th>\n",
       "      <th>id</th>\n",
       "      <th>type</th>\n",
       "      <th>actor</th>\n",
       "      <th>repo</th>\n",
       "      <th>payload</th>\n",
       "      <th>public</th>\n",
       "      <th>created_at</th>\n",
       "      <th>org</th>\n",
       "    </tr>\n",
       "  </thead>\n",
       "  <tbody>\n",
       "    <tr>\n",
       "      <th>0</th>\n",
       "      <td>22164041431</td>\n",
       "      <td>CreateEvent</td>\n",
       "      <td>{'id': 44050213, 'login': 'collisioncataclysm'...</td>\n",
       "      <td>{'id': 496726861, 'name': 'collisioncataclysm/...</td>\n",
       "      <td>{'ref': 'snyk-upgrade-54c90b4fba783e33846b3123...</td>\n",
       "      <td>True</td>\n",
       "      <td>2022-06-05 00:00:00+00:00</td>\n",
       "      <td>NaN</td>\n",
       "    </tr>\n",
       "    <tr>\n",
       "      <th>1</th>\n",
       "      <td>22164041432</td>\n",
       "      <td>PushEvent</td>\n",
       "      <td>{'id': 92907907, 'login': 'znyt', 'display_log...</td>\n",
       "      <td>{'id': 446902156, 'name': 'znyt/oss111', 'url'...</td>\n",
       "      <td>{'push_id': 10072717837, 'size': 1, 'distinct_...</td>\n",
       "      <td>True</td>\n",
       "      <td>2022-06-05 00:00:00+00:00</td>\n",
       "      <td>NaN</td>\n",
       "    </tr>\n",
       "    <tr>\n",
       "      <th>2</th>\n",
       "      <td>22164041434</td>\n",
       "      <td>PushEvent</td>\n",
       "      <td>{'id': 44050213, 'login': 'collisioncataclysm'...</td>\n",
       "      <td>{'id': 496726861, 'name': 'collisioncataclysm/...</td>\n",
       "      <td>{'push_id': 10072717839, 'size': 1, 'distinct_...</td>\n",
       "      <td>True</td>\n",
       "      <td>2022-06-05 00:00:00+00:00</td>\n",
       "      <td>NaN</td>\n",
       "    </tr>\n",
       "    <tr>\n",
       "      <th>3</th>\n",
       "      <td>22164041435</td>\n",
       "      <td>CreateEvent</td>\n",
       "      <td>{'id': 88858119, 'login': 'danrprado', 'displa...</td>\n",
       "      <td>{'id': 496835873, 'name': 'danrprado/cpanel-ap...</td>\n",
       "      <td>{'ref': 'update-readme', 'ref_type': 'branch',...</td>\n",
       "      <td>True</td>\n",
       "      <td>2022-06-05 00:00:00+00:00</td>\n",
       "      <td>NaN</td>\n",
       "    </tr>\n",
       "    <tr>\n",
       "      <th>4</th>\n",
       "      <td>22164041436</td>\n",
       "      <td>PushEvent</td>\n",
       "      <td>{'id': 69619077, 'login': 'szk302', 'display_l...</td>\n",
       "      <td>{'id': 430227097, 'name': 'szk302/dev-blog-htm...</td>\n",
       "      <td>{'push_id': 10072717843, 'size': 1, 'distinct_...</td>\n",
       "      <td>True</td>\n",
       "      <td>2022-06-05 00:00:00+00:00</td>\n",
       "      <td>NaN</td>\n",
       "    </tr>\n",
       "  </tbody>\n",
       "</table>\n",
       "</div>"
      ],
      "text/plain": [
       "            id         type  \\\n",
       "0  22164041431  CreateEvent   \n",
       "1  22164041432    PushEvent   \n",
       "2  22164041434    PushEvent   \n",
       "3  22164041435  CreateEvent   \n",
       "4  22164041436    PushEvent   \n",
       "\n",
       "                                               actor  \\\n",
       "0  {'id': 44050213, 'login': 'collisioncataclysm'...   \n",
       "1  {'id': 92907907, 'login': 'znyt', 'display_log...   \n",
       "2  {'id': 44050213, 'login': 'collisioncataclysm'...   \n",
       "3  {'id': 88858119, 'login': 'danrprado', 'displa...   \n",
       "4  {'id': 69619077, 'login': 'szk302', 'display_l...   \n",
       "\n",
       "                                                repo  \\\n",
       "0  {'id': 496726861, 'name': 'collisioncataclysm/...   \n",
       "1  {'id': 446902156, 'name': 'znyt/oss111', 'url'...   \n",
       "2  {'id': 496726861, 'name': 'collisioncataclysm/...   \n",
       "3  {'id': 496835873, 'name': 'danrprado/cpanel-ap...   \n",
       "4  {'id': 430227097, 'name': 'szk302/dev-blog-htm...   \n",
       "\n",
       "                                             payload  public  \\\n",
       "0  {'ref': 'snyk-upgrade-54c90b4fba783e33846b3123...    True   \n",
       "1  {'push_id': 10072717837, 'size': 1, 'distinct_...    True   \n",
       "2  {'push_id': 10072717839, 'size': 1, 'distinct_...    True   \n",
       "3  {'ref': 'update-readme', 'ref_type': 'branch',...    True   \n",
       "4  {'push_id': 10072717843, 'size': 1, 'distinct_...    True   \n",
       "\n",
       "                 created_at  org  \n",
       "0 2022-06-05 00:00:00+00:00  NaN  \n",
       "1 2022-06-05 00:00:00+00:00  NaN  \n",
       "2 2022-06-05 00:00:00+00:00  NaN  \n",
       "3 2022-06-05 00:00:00+00:00  NaN  \n",
       "4 2022-06-05 00:00:00+00:00  NaN  "
      ]
     },
     "execution_count": 12,
     "metadata": {},
     "output_type": "execute_result"
    }
   ],
   "source": [
    "df.head()"
   ]
  },
  {
   "cell_type": "code",
   "execution_count": 13,
   "metadata": {},
   "outputs": [
    {
     "data": {
      "text/plain": [
       "0                                                      NaN\n",
       "1                                                      NaN\n",
       "2                                                      NaN\n",
       "3                                                      NaN\n",
       "4                                                      NaN\n",
       "                               ...                        \n",
       "89438                                                  NaN\n",
       "89439                                                  NaN\n",
       "89440    {'id': 6154722, 'login': 'microsoft', 'gravata...\n",
       "89441    {'id': 6154722, 'login': 'microsoft', 'gravata...\n",
       "89442    {'id': 6154722, 'login': 'microsoft', 'gravata...\n",
       "Name: org, Length: 89443, dtype: object"
      ]
     },
     "execution_count": 13,
     "metadata": {},
     "output_type": "execute_result"
    }
   ],
   "source": [
    "df['org']"
   ]
  }
 ],
 "metadata": {
  "kernelspec": {
   "display_name": "ga-venv",
   "language": "python",
   "name": "python3"
  },
  "language_info": {
   "codemirror_mode": {
    "name": "ipython",
    "version": 3
   },
   "file_extension": ".py",
   "mimetype": "text/x-python",
   "name": "python",
   "nbconvert_exporter": "python",
   "pygments_lexer": "ipython3",
   "version": "3.9.17"
  },
  "orig_nbformat": 4
 },
 "nbformat": 4,
 "nbformat_minor": 2
}
