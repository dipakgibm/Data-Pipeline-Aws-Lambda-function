{
 "cells": [
  {
   "cell_type": "code",
   "execution_count": 1,
   "metadata": {},
   "outputs": [
    {
     "name": "stdout",
     "output_type": "stream",
     "text": [
      "Current Date 2023-08-08 17:11:26.702505\n"
     ]
    }
   ],
   "source": [
    "from datetime import datetime as dt\n",
    "from datetime import timedelta as td\n",
    "import requests\n",
    "\n",
    "current_date = dt.now()\n",
    "print(\"Current Date\",current_date)\n"
   ]
  },
  {
   "cell_type": "code",
   "execution_count": 2,
   "metadata": {},
   "outputs": [
    {
     "name": "stdout",
     "output_type": "stream",
     "text": [
      "date:2022-06-05-07, date_part:2022-06-05-7 , date delta: 2022-06-05 08:28:06.768041, string to date: 2022-06-05 07:00:00\n"
     ]
    }
   ],
   "source": [
    "date_1 = dt.strftime(dt(2022,6,5,7,28,6,768041),'%Y-%m-%d-%H') #20060710\n",
    "dt_part =dt.strftime(dt(2022,6,5,7,28,6,768041),'%Y-%m-%d-%-H') #20060710\n",
    "date_delta= dt(2022,6,5,7,28,6,768041)+ td(hours=1)\n",
    "stringtodate = dt.strptime('2022-06-05-7','%Y-%m-%d-%H')\n",
    "print(f'date:{date_1}, date_part:{dt_part} , date delta: {date_delta}, string to date: {stringtodate}')"
   ]
  },
  {
   "cell_type": "code",
   "execution_count": 4,
   "metadata": {},
   "outputs": [],
   "source": [
    "\n",
    "\n",
    "next_file = f\"{dt.strftime(dt.strptime('2022-06-05-0','%Y-%m-%d-%H')+td(hours=0),'%Y-%m-%d-%-H')}.json.gz\"\n",
    "\n",
    "res = requests.get(f'https://data.gharchive.org/{next_file}')\n",
    "\n",
    "file = open(f'data/{next_file}', 'wb')\n",
    "file.write(res.content)\n",
    "file.close()"
   ]
  },
  {
   "cell_type": "code",
   "execution_count": 30,
   "metadata": {},
   "outputs": [
    {
     "name": "stdout",
     "output_type": "stream",
     "text": [
      "total 33200\n",
      "-rw-r--r-- 1 admin123 admin123      254 Aug  6 13:56 2011-02-12-01.json.gz\n",
      "-rw-r--r-- 1 admin123 admin123 33989636 Aug  6 13:56 2022-06-05-0.json.gz\n"
     ]
    }
   ],
   "source": [
    "!ls -ltr data"
   ]
  }
 ],
 "metadata": {
  "interpreter": {
   "hash": "4bcd215c4a14989c946b0b0624b2d9cd8bc3b4ff7a1c5d476ef679e9df9c7085"
  },
  "kernelspec": {
   "display_name": "Python 3.9.12 ('ga-venv': venv)",
   "language": "python",
   "name": "python3"
  },
  "language_info": {
   "codemirror_mode": {
    "name": "ipython",
    "version": 3
   },
   "file_extension": ".py",
   "mimetype": "text/x-python",
   "name": "python",
   "nbconvert_exporter": "python",
   "pygments_lexer": "ipython3",
   "version": "3.9.17"
  },
  "orig_nbformat": 4
 },
 "nbformat": 4,
 "nbformat_minor": 2
}
