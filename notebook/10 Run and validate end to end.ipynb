{
 "cells": [
  {
   "cell_type": "code",
   "execution_count": 1,
   "metadata": {},
   "outputs": [],
   "source": [
    "import requests\n",
    "import pandas as pd\n",
    "import boto3\n",
    "from datetime import datetime as dt\n",
    "from datetime import timedelta as td\n",
    "import time\n",
    "\n"
   ]
  },
  {
   "cell_type": "code",
   "execution_count": 2,
   "metadata": {},
   "outputs": [
    {
     "data": {
      "text/plain": [
       "{'ResponseMetadata': {'RequestId': 'C8C9SABSUF8EVDMJANEB159E9BVV4KQNSO5AEMVJF66Q9ASUAAJG',\n",
       "  'HTTPStatusCode': 200,\n",
       "  'HTTPHeaders': {'server': 'Server',\n",
       "   'date': 'Sun, 27 Aug 2023 14:13:56 GMT',\n",
       "   'content-type': 'application/x-amz-json-1.0',\n",
       "   'content-length': '2',\n",
       "   'connection': 'keep-alive',\n",
       "   'x-amzn-requestid': 'C8C9SABSUF8EVDMJANEB159E9BVV4KQNSO5AEMVJF66Q9ASUAAJG',\n",
       "   'x-amz-crc32': '2745614147'},\n",
       "  'RetryAttempts': 0}}"
      ]
     },
     "execution_count": 2,
     "metadata": {},
     "output_type": "execute_result"
    }
   ],
   "source": [
    "\n",
    "dynamodb = boto3.resource('dynamodb')\n",
    "table= dynamodb.Table('jobs')\n",
    "table.delete_item(Key={'job_id':'ghactivity_ingest'})\n",
    "item = {\n",
    "     'job_id': 'ghactivity_ingest',\n",
    "     'job_description': 'Ingest ghactivity data to s3',\n",
    "     'is_active': 'Y',\n",
    "     'baseline_days': 3,\n",
    "}\n",
    "\n",
    "table.put_item(Item=item)\n",
    "\n",
    "    \n",
    "      "
   ]
  },
  {
   "cell_type": "code",
   "execution_count": 3,
   "metadata": {},
   "outputs": [],
   "source": [
    "def get_job_details(job_name):\n",
    "    dynamodb = boto3.resource('dynamodb')\n",
    "    table= dynamodb.Table('jobs')\n",
    "    job_details= table.get_item(Key={'job_id':job_name})['Item']\n",
    "    return job_details\n",
    "      "
   ]
  },
  {
   "cell_type": "code",
   "execution_count": 4,
   "metadata": {},
   "outputs": [],
   "source": [
    "def get_next_file_name(job_details):\n",
    "    \"\"\"Get the next file name for a job\"\"\"\n",
    "    job_start_time = int(time.mktime(dt.now().timetuple()))\n",
    "    job_run_bookmark_details = job_details.get('job_run_bookmark_details')\n",
    "    baseline_days= int(job_details['baseline_days'])\n",
    "    if job_run_bookmark_details:\n",
    "        dt_part = job_run_bookmark_details['last_run_file_name'].split('.')[0]\n",
    "        next_file_name = f\"{dt.strftime(dt.strptime(dt_part,'%Y-%m-%d-H')+ td(hour=2),'%Y-%m-%d-%-H')}.json.gz\"\n",
    "    else:\n",
    "        next_file_name= f\"{dt.strftime(dt.now().date()- td(days=baseline_days),'%Y-%m-%d')}-0.json.gz\"\n",
    "    \n",
    "    return job_start_time,next_file_name\n"
   ]
  },
  {
   "cell_type": "code",
   "execution_count": 5,
   "metadata": {},
   "outputs": [],
   "source": [
    "\n",
    "bucket_name = 'aigithubs'\n",
    "folder = 'landing/ghactivity'\n",
    "\n",
    "def upload_file_to_s3(file_name,bucket_name,folder):\n",
    "    print(f'Getting the {file_name} from gharchive')\n",
    "    res = requests.get(f'https://data.gharchive.org/{file_name}')\n",
    "    print(f'Uploading {file_name} to s3 under s3://{bucket_name}/{folder}')\n",
    "    s3_client = boto3.client('s3')\n",
    "    upload_res = s3_client.put_object(\n",
    "        Bucket=bucket_name,\n",
    "        Key=f'landing/ghactivity/{file_name}',\n",
    "        Body=res.content\n",
    "    )\n",
    "    return {'last_run_file_name':f's3://{bucket_name}/{folder}/{file_name}',\n",
    "            'status_code':upload_res['ResponseMetadata']['HTTPStatusCode']\n",
    "            }\n",
    "    \n",
    "    \n",
    "    "
   ]
  },
  {
   "cell_type": "code",
   "execution_count": 6,
   "metadata": {},
   "outputs": [],
   "source": [
    "def save_job_run_details(job_details,job_run_details,job_start_time):\n",
    "    dynamodb = boto3.resource('dynamodb')\n",
    "    job_run_details_item={\n",
    "        'job_id':job_details['job_id'],\n",
    "        'job_run_time':job_start_time,\n",
    "        'job_run_bookmark_details': job_run_details,\n",
    "        'create_ts':int(time.mktime(dt.now().timetuple()))\n",
    "    }\n",
    "    job_run_details_table = dynamodb.Table('jobs_run_details')\n",
    "    job_run_details_table.put_item(Item=job_run_details_item)\n",
    "    \n",
    "    job_details_tale = dynamodb.Table('jobs')\n",
    "    job_details['job_run_bookmark_details']=job_run_details\n",
    "    job_details_tale.put_item(Item=job_details)\n",
    "    "
   ]
  },
  {
   "cell_type": "code",
   "execution_count": 7,
   "metadata": {},
   "outputs": [
    {
     "name": "stdout",
     "output_type": "stream",
     "text": [
      "Getting the 2023-08-24-0.json.gz from gharchive\n",
      "Uploading 2023-08-24-0.json.gz to s3 under s3://aigithubs/landing/ghactivity\n",
      "all the process completed.\n"
     ]
    }
   ],
   "source": [
    "job_details = get_job_details('ghactivity_ingest')\n",
    "job_start_time,next_file_name = get_next_file_name(job_details)\n",
    "job_run_details = upload_file_to_s3(next_file_name,bucket_name,folder)\n",
    "save_job_run_details(job_details,job_run_details,job_start_time)\n",
    "print('all the process completed.')\n",
    "# print(job_start_time,next_file_name)"
   ]
  },
  {
   "cell_type": "code",
   "execution_count": 15,
   "metadata": {},
   "outputs": [
    {
     "name": "stdout",
     "output_type": "stream",
     "text": [
      "2023-08-18 16:35:01   73291345 2023-08-15-0.json.gz\n",
      "2023-08-19 21:22:23   75643003 2023-08-16-0.json.gz\n",
      "2023-08-20 19:29:27   64427174 2023-08-17-0.json.gz\n"
     ]
    }
   ],
   "source": [
    "!aws s3 ls s3://aigithubs/landing/ghactivity/"
   ]
  },
  {
   "cell_type": "code",
   "execution_count": 16,
   "metadata": {},
   "outputs": [
    {
     "data": {
      "text/plain": [
       "{'Items': [{'job_description': 'Ingest ghactivity data to s3',\n",
       "   'is_active': 'Y',\n",
       "   'job_id': 'ghactivity_ingest',\n",
       "   'baseline_days': Decimal('3'),\n",
       "   'job_run_bookmark_details': {'last_run_file_name': 's3://aigithubs/landing/ghactivity/2023-08-17-0.json.gz',\n",
       "    'status_code': Decimal('200')}}],\n",
       " 'Count': 1,\n",
       " 'ScannedCount': 1,\n",
       " 'ResponseMetadata': {'RequestId': '0MU9U363C8UCG5U8N0IP9AQJGFVV4KQNSO5AEMVJF66Q9ASUAAJG',\n",
       "  'HTTPStatusCode': 200,\n",
       "  'HTTPHeaders': {'server': 'Server',\n",
       "   'date': 'Sun, 20 Aug 2023 14:05:17 GMT',\n",
       "   'content-type': 'application/x-amz-json-1.0',\n",
       "   'content-length': '323',\n",
       "   'connection': 'keep-alive',\n",
       "   'x-amzn-requestid': '0MU9U363C8UCG5U8N0IP9AQJGFVV4KQNSO5AEMVJF66Q9ASUAAJG',\n",
       "   'x-amz-crc32': '4268278038'},\n",
       "  'RetryAttempts': 0}}"
      ]
     },
     "execution_count": 16,
     "metadata": {},
     "output_type": "execute_result"
    }
   ],
   "source": [
    "dynamodb = boto3.resource('dynamodb')\n",
    "job_table= dynamodb.Table('jobs')\n",
    "job_table.scan()"
   ]
  },
  {
   "cell_type": "code",
   "execution_count": 17,
   "metadata": {},
   "outputs": [
    {
     "data": {
      "text/plain": [
       "{'Items': [{'job_id': 'ghactivity_ingest',\n",
       "   'job_run_bookmark_details': {'processed_file_name': '2022-06-03-0.json.gz'},\n",
       "   'job_run_time': Decimal('1691673936')},\n",
       "  {'create_ts': Decimal('1692519331'),\n",
       "   'job_id': 'ghactivity_ingest',\n",
       "   'job_run_bookmark_details': {'last_run_file_name': 's3://aigithubs/landing/ghactivity/2023-08-17-0.json.gz',\n",
       "    'status_code': Decimal('200')},\n",
       "   'job_run_time': Decimal('1692518480')},\n",
       "  {'create_ts': Decimal('1692540164'),\n",
       "   'job_id': 'ghactivity_ingest',\n",
       "   'job_run_bookmark_details': {'last_run_file_name': 's3://aigithubs/landing/ghactivity/2023-08-17-0.json.gz',\n",
       "    'status_code': Decimal('200')},\n",
       "   'job_run_time': Decimal('1692539955')}],\n",
       " 'Count': 3,\n",
       " 'ScannedCount': 3,\n",
       " 'ResponseMetadata': {'RequestId': 'T50408T7UQELTR71Q5AB19N7LBVV4KQNSO5AEMVJF66Q9ASUAAJG',\n",
       "  'HTTPStatusCode': 200,\n",
       "  'HTTPHeaders': {'server': 'Server',\n",
       "   'date': 'Sun, 20 Aug 2023 14:06:06 GMT',\n",
       "   'content-type': 'application/x-amz-json-1.0',\n",
       "   'content-length': '689',\n",
       "   'connection': 'keep-alive',\n",
       "   'x-amzn-requestid': 'T50408T7UQELTR71Q5AB19N7LBVV4KQNSO5AEMVJF66Q9ASUAAJG',\n",
       "   'x-amz-crc32': '877937993'},\n",
       "  'RetryAttempts': 0}}"
      ]
     },
     "execution_count": 17,
     "metadata": {},
     "output_type": "execute_result"
    }
   ],
   "source": [
    "job_table= dynamodb.Table('jobs_run_details')\n",
    "job_table.scan()"
   ]
  }
 ],
 "metadata": {
  "kernelspec": {
   "display_name": "ga-venv",
   "language": "python",
   "name": "python3"
  },
  "language_info": {
   "codemirror_mode": {
    "name": "ipython",
    "version": 3
   },
   "file_extension": ".py",
   "mimetype": "text/x-python",
   "name": "python",
   "nbconvert_exporter": "python",
   "pygments_lexer": "ipython3",
   "version": "3.9.17"
  },
  "orig_nbformat": 4
 },
 "nbformat": 4,
 "nbformat_minor": 2
}
