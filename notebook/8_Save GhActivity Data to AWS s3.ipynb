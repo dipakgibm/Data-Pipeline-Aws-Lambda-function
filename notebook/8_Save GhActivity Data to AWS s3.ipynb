{
 "cells": [
  {
   "cell_type": "code",
   "execution_count": 3,
   "metadata": {},
   "outputs": [],
   "source": [
    "import requests\n",
    "import pandas as pd\n",
    "import boto3\n",
    "from datetime import datetime as dt\n",
    "from datetime import timedelta as td\n",
    "\n"
   ]
  },
  {
   "cell_type": "code",
   "execution_count": 2,
   "metadata": {},
   "outputs": [
    {
     "name": "stdout",
     "output_type": "stream",
     "text": [
      "2023-08-16 22:50:34 aigithubs\n",
      "2023-08-08 20:46:37 dttghaactivity\n",
      "2022-11-23 17:38:26 elasticbeanstalk-us-east-1-130663382464\n",
      "2022-11-23 22:00:09 sadfdsfasdfasdfasfdsafsd\n"
     ]
    }
   ],
   "source": [
    "!aws s3 ls"
   ]
  },
  {
   "cell_type": "code",
   "execution_count": null,
   "metadata": {},
   "outputs": [],
   "source": []
  },
  {
   "cell_type": "code",
   "execution_count": 4,
   "metadata": {},
   "outputs": [],
   "source": [
    "!aws s3 rm s3://aigithubs --recursive"
   ]
  },
  {
   "cell_type": "code",
   "execution_count": 5,
   "metadata": {},
   "outputs": [
    {
     "name": "stdout",
     "output_type": "stream",
     "text": [
      "make_bucket: aigithubs\n"
     ]
    }
   ],
   "source": [
    "!aws s3 mb s3://aigithubs"
   ]
  },
  {
   "cell_type": "code",
   "execution_count": 8,
   "metadata": {},
   "outputs": [
    {
     "data": {
      "text/plain": [
       "{'ResponseMetadata': {'RequestId': 'BVFFF3GKMG141632KKS1PD696RVV4KQNSO5AEMVJF66Q9ASUAAJG',\n",
       "  'HTTPStatusCode': 200,\n",
       "  'HTTPHeaders': {'server': 'Server',\n",
       "   'date': 'Fri, 18 Aug 2023 11:48:21 GMT',\n",
       "   'content-type': 'application/x-amz-json-1.0',\n",
       "   'content-length': '2',\n",
       "   'connection': 'keep-alive',\n",
       "   'x-amzn-requestid': 'BVFFF3GKMG141632KKS1PD696RVV4KQNSO5AEMVJF66Q9ASUAAJG',\n",
       "   'x-amz-crc32': '2745614147'},\n",
       "  'RetryAttempts': 0}}"
      ]
     },
     "execution_count": 8,
     "metadata": {},
     "output_type": "execute_result"
    }
   ],
   "source": [
    "\n",
    "dynamodb = boto3.resource('dynamodb')\n",
    "table= dynamodb.Table('jobs')\n",
    "table.get_item(Key={'job_id':'ghactivity_ingest'})\n",
    "item = {\n",
    "     'job_id': 'ghactivity_ingest',\n",
    "     'job_description': 'Ingest ghactivity data to s3',\n",
    "     'is_active': 'Y',\n",
    "     'baseline_days': 3,\n",
    "}\n",
    "\n",
    "table.put_item(Item=item)\n",
    "\n",
    "    \n",
    "      "
   ]
  },
  {
   "cell_type": "code",
   "execution_count": 9,
   "metadata": {},
   "outputs": [
    {
     "data": {
      "text/plain": [
       "Decimal('3')"
      ]
     },
     "execution_count": 9,
     "metadata": {},
     "output_type": "execute_result"
    }
   ],
   "source": [
    "baseline_days = table.\\\n",
    "    get_item(Key={'job_id':'ghactivity_ingest'})['Item']['baseline_days']\n",
    "baseline_days"
   ]
  },
  {
   "cell_type": "code",
   "execution_count": 10,
   "metadata": {},
   "outputs": [
    {
     "data": {
      "text/plain": [
       "3"
      ]
     },
     "execution_count": 10,
     "metadata": {},
     "output_type": "execute_result"
    }
   ],
   "source": [
    "int(baseline_days)"
   ]
  },
  {
   "cell_type": "code",
   "execution_count": 11,
   "metadata": {},
   "outputs": [
    {
     "data": {
      "text/plain": [
       "'2023-08-15-0.json.gz'"
      ]
     },
     "execution_count": 11,
     "metadata": {},
     "output_type": "execute_result"
    }
   ],
   "source": [
    "\n",
    "next_file = f\"{dt.strftime(dt.now().date()- td(days=int(baseline_days)),'%Y-%m-%d-%-H')}.json.gz\"\n",
    "next_file"
   ]
  },
  {
   "cell_type": "code",
   "execution_count": 14,
   "metadata": {},
   "outputs": [],
   "source": [
    "res = requests.get(f'https://data.gharchive.org/{next_file}')\n"
   ]
  },
  {
   "cell_type": "code",
   "execution_count": 12,
   "metadata": {},
   "outputs": [],
   "source": [
    "s3_client = boto3.client('s3')"
   ]
  },
  {
   "cell_type": "code",
   "execution_count": 20,
   "metadata": {},
   "outputs": [],
   "source": [
    "bucket_name = 'aigithubs'\n",
    "\n",
    "upload_res = s3_client.put_object(\n",
    "    Bucket=bucket_name,\n",
    "    Key=f'landing/ghactivity/{next_file}',\n",
    "    Body=res.content\n",
    ")"
   ]
  },
  {
   "cell_type": "code",
   "execution_count": 21,
   "metadata": {},
   "outputs": [
    {
     "data": {
      "text/plain": [
       "{'ResponseMetadata': {'RequestId': '3KMEFZNS2RSKENDS',\n",
       "  'HostId': 'v+4FaADjKVEWzFb0/CgMKEnqaxHRUauRPBrkhTf5KHmE/GViHODs90pCTaK4BkQN7TfdTHkP/fo=',\n",
       "  'HTTPStatusCode': 200,\n",
       "  'HTTPHeaders': {'x-amz-id-2': 'v+4FaADjKVEWzFb0/CgMKEnqaxHRUauRPBrkhTf5KHmE/GViHODs90pCTaK4BkQN7TfdTHkP/fo=',\n",
       "   'x-amz-request-id': '3KMEFZNS2RSKENDS',\n",
       "   'date': 'Fri, 18 Aug 2023 11:05:01 GMT',\n",
       "   'x-amz-server-side-encryption': 'AES256',\n",
       "   'etag': '\"3ffe98b7af5cd693579cfc8c1e098e84\"',\n",
       "   'server': 'AmazonS3',\n",
       "   'content-length': '0'},\n",
       "  'RetryAttempts': 0},\n",
       " 'ETag': '\"3ffe98b7af5cd693579cfc8c1e098e84\"',\n",
       " 'ServerSideEncryption': 'AES256'}"
      ]
     },
     "execution_count": 21,
     "metadata": {},
     "output_type": "execute_result"
    }
   ],
   "source": [
    "upload_res"
   ]
  },
  {
   "cell_type": "code",
   "execution_count": 13,
   "metadata": {},
   "outputs": [],
   "source": [
    "bucket_name = 'aigithubs'\n",
    "df = pd.read_json(f's3://{bucket_name}/landing/ghactivity/{next_file}',\n",
    "                lines=True,\n",
    "                orient='records')\n"
   ]
  },
  {
   "cell_type": "code",
   "execution_count": 14,
   "metadata": {},
   "outputs": [
    {
     "data": {
      "text/plain": [
       "(164736, 8)"
      ]
     },
     "execution_count": 14,
     "metadata": {},
     "output_type": "execute_result"
    }
   ],
   "source": [
    "df.shape"
   ]
  },
  {
   "cell_type": "code",
   "execution_count": 15,
   "metadata": {},
   "outputs": [
    {
     "data": {
      "text/plain": [
       "id            164736\n",
       "type          164736\n",
       "actor         164736\n",
       "repo          164736\n",
       "payload       164736\n",
       "public        164736\n",
       "created_at    164736\n",
       "org            36344\n",
       "dtype: int64"
      ]
     },
     "execution_count": 15,
     "metadata": {},
     "output_type": "execute_result"
    }
   ],
   "source": [
    "df.count()"
   ]
  },
  {
   "cell_type": "code",
   "execution_count": 16,
   "metadata": {},
   "outputs": [
    {
     "data": {
      "text/html": [
       "<div>\n",
       "<style scoped>\n",
       "    .dataframe tbody tr th:only-of-type {\n",
       "        vertical-align: middle;\n",
       "    }\n",
       "\n",
       "    .dataframe tbody tr th {\n",
       "        vertical-align: top;\n",
       "    }\n",
       "\n",
       "    .dataframe thead th {\n",
       "        text-align: right;\n",
       "    }\n",
       "</style>\n",
       "<table border=\"1\" class=\"dataframe\">\n",
       "  <thead>\n",
       "    <tr style=\"text-align: right;\">\n",
       "      <th></th>\n",
       "      <th>id</th>\n",
       "      <th>type</th>\n",
       "      <th>actor</th>\n",
       "      <th>repo</th>\n",
       "      <th>payload</th>\n",
       "      <th>public</th>\n",
       "      <th>created_at</th>\n",
       "      <th>org</th>\n",
       "    </tr>\n",
       "  </thead>\n",
       "  <tbody>\n",
       "    <tr>\n",
       "      <th>0</th>\n",
       "      <td>31116151901</td>\n",
       "      <td>PushEvent</td>\n",
       "      <td>{'id': 73243839, 'login': 'akum2', 'display_lo...</td>\n",
       "      <td>{'id': 348002433, 'name': 'akum2/akum2', 'url'...</td>\n",
       "      <td>{'repository_id': 348002433, 'push_id': 146751...</td>\n",
       "      <td>True</td>\n",
       "      <td>2023-08-15 00:00:00+00:00</td>\n",
       "      <td>NaN</td>\n",
       "    </tr>\n",
       "    <tr>\n",
       "      <th>1</th>\n",
       "      <td>31116151908</td>\n",
       "      <td>PushEvent</td>\n",
       "      <td>{'id': 98237115, 'login': 'Daniil-Horobets', '...</td>\n",
       "      <td>{'id': 678423192, 'name': 'Daniil-Horobets/Ada...</td>\n",
       "      <td>{'repository_id': 678423192, 'push_id': 146751...</td>\n",
       "      <td>True</td>\n",
       "      <td>2023-08-15 00:00:00+00:00</td>\n",
       "      <td>NaN</td>\n",
       "    </tr>\n",
       "    <tr>\n",
       "      <th>2</th>\n",
       "      <td>31116151909</td>\n",
       "      <td>PushEvent</td>\n",
       "      <td>{'id': 1737202, 'login': 'rsathish', 'display_...</td>\n",
       "      <td>{'id': 678595806, 'name': 'rsathish/Niraltek',...</td>\n",
       "      <td>{'repository_id': 678595806, 'push_id': 146751...</td>\n",
       "      <td>True</td>\n",
       "      <td>2023-08-15 00:00:00+00:00</td>\n",
       "      <td>NaN</td>\n",
       "    </tr>\n",
       "    <tr>\n",
       "      <th>3</th>\n",
       "      <td>31116151914</td>\n",
       "      <td>WatchEvent</td>\n",
       "      <td>{'id': 87281783, 'login': 'malisipi', 'display...</td>\n",
       "      <td>{'id': 166474509, 'name': 'glreno/oneko', 'url...</td>\n",
       "      <td>{'action': 'started'}</td>\n",
       "      <td>True</td>\n",
       "      <td>2023-08-15 00:00:00+00:00</td>\n",
       "      <td>NaN</td>\n",
       "    </tr>\n",
       "    <tr>\n",
       "      <th>4</th>\n",
       "      <td>31116151925</td>\n",
       "      <td>PushEvent</td>\n",
       "      <td>{'id': 109624739, 'login': 'shopify-github-act...</td>\n",
       "      <td>{'id': 88897663, 'name': 'Shopify/polaris', 'u...</td>\n",
       "      <td>{'repository_id': 88897663, 'push_id': 1467516...</td>\n",
       "      <td>True</td>\n",
       "      <td>2023-08-15 00:00:00+00:00</td>\n",
       "      <td>{'id': 8085, 'login': 'Shopify', 'gravatar_id'...</td>\n",
       "    </tr>\n",
       "  </tbody>\n",
       "</table>\n",
       "</div>"
      ],
      "text/plain": [
       "            id        type                                              actor  \\\n",
       "0  31116151901   PushEvent  {'id': 73243839, 'login': 'akum2', 'display_lo...   \n",
       "1  31116151908   PushEvent  {'id': 98237115, 'login': 'Daniil-Horobets', '...   \n",
       "2  31116151909   PushEvent  {'id': 1737202, 'login': 'rsathish', 'display_...   \n",
       "3  31116151914  WatchEvent  {'id': 87281783, 'login': 'malisipi', 'display...   \n",
       "4  31116151925   PushEvent  {'id': 109624739, 'login': 'shopify-github-act...   \n",
       "\n",
       "                                                repo  \\\n",
       "0  {'id': 348002433, 'name': 'akum2/akum2', 'url'...   \n",
       "1  {'id': 678423192, 'name': 'Daniil-Horobets/Ada...   \n",
       "2  {'id': 678595806, 'name': 'rsathish/Niraltek',...   \n",
       "3  {'id': 166474509, 'name': 'glreno/oneko', 'url...   \n",
       "4  {'id': 88897663, 'name': 'Shopify/polaris', 'u...   \n",
       "\n",
       "                                             payload  public  \\\n",
       "0  {'repository_id': 348002433, 'push_id': 146751...    True   \n",
       "1  {'repository_id': 678423192, 'push_id': 146751...    True   \n",
       "2  {'repository_id': 678595806, 'push_id': 146751...    True   \n",
       "3                              {'action': 'started'}    True   \n",
       "4  {'repository_id': 88897663, 'push_id': 1467516...    True   \n",
       "\n",
       "                 created_at                                                org  \n",
       "0 2023-08-15 00:00:00+00:00                                                NaN  \n",
       "1 2023-08-15 00:00:00+00:00                                                NaN  \n",
       "2 2023-08-15 00:00:00+00:00                                                NaN  \n",
       "3 2023-08-15 00:00:00+00:00                                                NaN  \n",
       "4 2023-08-15 00:00:00+00:00  {'id': 8085, 'login': 'Shopify', 'gravatar_id'...  "
      ]
     },
     "execution_count": 16,
     "metadata": {},
     "output_type": "execute_result"
    }
   ],
   "source": [
    "df.head()"
   ]
  }
 ],
 "metadata": {
  "kernelspec": {
   "display_name": "ga-venv",
   "language": "python",
   "name": "python3"
  },
  "language_info": {
   "codemirror_mode": {
    "name": "ipython",
    "version": 3
   },
   "file_extension": ".py",
   "mimetype": "text/x-python",
   "name": "python",
   "nbconvert_exporter": "python",
   "pygments_lexer": "ipython3",
   "version": "3.9.17"
  },
  "orig_nbformat": 4
 },
 "nbformat": 4,
 "nbformat_minor": 2
}
